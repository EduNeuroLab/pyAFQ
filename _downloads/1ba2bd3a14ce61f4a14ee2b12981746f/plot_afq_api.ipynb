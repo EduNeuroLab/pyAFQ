{
  "cells": [
    {
      "cell_type": "code",
      "execution_count": null,
      "metadata": {
        "collapsed": false
      },
      "outputs": [],
      "source": [
        "%matplotlib inline"
      ]
    },
    {
      "cell_type": "markdown",
      "metadata": {},
      "source": [
        "\n# AFQ API\n\n\nAn example using the AFQ API\n\n\n"
      ]
    },
    {
      "cell_type": "code",
      "execution_count": null,
      "metadata": {
        "collapsed": false
      },
      "outputs": [],
      "source": [
        "import os.path as op\n\nimport matplotlib.pyplot as plt\nimport nibabel as nib\nimport pandas as pd\n\nfrom AFQ import api\nimport AFQ.data as afd\n\nafd.organize_stanford_data()\nbase_dir = op.join(op.expanduser('~'), 'AFQ_data', 'stanford_hardi')\n\nmyafq = api.AFQ(op.join(afd.afq_home,\n                        'stanford_hardi',\n                        'derivatives',\n                        'preafq'),\n                sub_prefix='sub', bundle_list=[\"SLF\", \"ARC\", \"CST\", \"FP\"])\n\nFA = nib.load(myafq.dti_fa[0]).get_data()\n\nfig, ax = plt.subplots(1)\nax.matshow(FA[:, :, FA.shape[-1] // 2], cmap='viridis')\nax.axis(\"off\")\n\ndf = pd.read_csv(myafq.tract_profiles[0])\n\nfor bundle in df['bundle'].unique():\n    fig, ax = plt.subplots(1)\n    ax.plot(df[(df['scalar'] == \"dti_fa\") &\n            (df['bundle'] == bundle)]['profiles'])\n    ax.set_title(bundle)\n\nplt.show()"
      ]
    }
  ],
  "metadata": {
    "kernelspec": {
      "display_name": "Python 3",
      "language": "python",
      "name": "python3"
    },
    "language_info": {
      "codemirror_mode": {
        "name": "ipython",
        "version": 3
      },
      "file_extension": ".py",
      "mimetype": "text/x-python",
      "name": "python",
      "nbconvert_exporter": "python",
      "pygments_lexer": "ipython3",
      "version": "3.7.0"
    }
  },
  "nbformat": 4,
  "nbformat_minor": 0
}